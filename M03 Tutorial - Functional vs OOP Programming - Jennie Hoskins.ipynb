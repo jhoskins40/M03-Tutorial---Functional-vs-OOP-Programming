{
 "cells": [
  {
   "cell_type": "code",
   "execution_count": 2,
   "id": "ac67b6a2",
   "metadata": {},
   "outputs": [
    {
     "ename": "TabError",
     "evalue": "inconsistent use of tabs and spaces in indentation (2077970079.py, line 14)",
     "output_type": "error",
     "traceback": [
      "\u001b[1;36m  Cell \u001b[1;32mIn[2], line 14\u001b[1;36m\u001b[0m\n\u001b[1;33m    def binary(self, arr, n, k):\u001b[0m\n\u001b[1;37m    ^\u001b[0m\n\u001b[1;31mTabError\u001b[0m\u001b[1;31m:\u001b[0m inconsistent use of tabs and spaces in indentation\n"
     ]
    }
   ],
   "source": [
    "#binary search\n",
    "class Solution:\t\n",
    "    def search(self, arr, left, right, key):\n",
    "        if left > right:\n",
    "            return -1\n",
    "        mid = (left + right) // 2\n",
    "        if arr[mid] == key:\n",
    "            return mid\n",
    "        elif arr[mid] > key:\n",
    "            return self.search(arr, left, mid - 1, key)\n",
    "        else:\n",
    "            return self.search (arr, mid + 1, right, key)\n",
    "    \n",
    "\tdef binarysearch(self, arr, n, k):\n",
    "\t\treturn self.search(arr, 0, n-1, k)"
   ]
  },
  {
   "cell_type": "code",
   "execution_count": 3,
   "id": "29129ab9",
   "metadata": {},
   "outputs": [],
   "source": [
    "#Sort an array of 0's, 1's, and 2's\n",
    "class Solution:\n",
    "    def sort012(self,arr,n):\n",
    "        low = 0\n",
    "        mid = 0\n",
    "        high = len(arr)-1\n",
    "        while mid<=high:\n",
    "            if arr[mid] == 0:\n",
    "                arr[low],arr[mid] = arr[mid],arr[low]\n",
    "                low += 1\n",
    "                mid += 1\n",
    "            elif arr[mid] == 1:\n",
    "                mid += 1\n",
    "            else:\n",
    "                arr[high],arr[mid] = arr[mid], arr[high]\n",
    "                high -= 1\n",
    "        return arr"
   ]
  },
  {
   "cell_type": "code",
   "execution_count": null,
   "id": "fc406cc5",
   "metadata": {},
   "outputs": [],
   "source": []
  }
 ],
 "metadata": {
  "kernelspec": {
   "display_name": "Python 3 (ipykernel)",
   "language": "python",
   "name": "python3"
  },
  "language_info": {
   "codemirror_mode": {
    "name": "ipython",
    "version": 3
   },
   "file_extension": ".py",
   "mimetype": "text/x-python",
   "name": "python",
   "nbconvert_exporter": "python",
   "pygments_lexer": "ipython3",
   "version": "3.10.9"
  }
 },
 "nbformat": 4,
 "nbformat_minor": 5
}
